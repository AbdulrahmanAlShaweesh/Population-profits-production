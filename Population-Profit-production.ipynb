{
 "cells": [
  {
   "cell_type": "markdown",
   "id": "faba3a6b",
   "metadata": {},
   "source": [
    "# This is a Machine Learning Project used with a single variable\n",
    "* Populations\n",
    "* Profits \n"
   ]
  },
  {
   "cell_type": "markdown",
   "id": "00852baf",
   "metadata": {},
   "source": [
    "### Loading the required Libraries"
   ]
  },
  {
   "cell_type": "code",
   "execution_count": 114,
   "id": "0c18732a",
   "metadata": {},
   "outputs": [],
   "source": [
    "import numpy as np \n",
    "import pandas as pd \n",
    "import matplotlib.pyplot as plt \n",
    "import seaborn as sns\n",
    "import warnings \n",
    "from sklearn.model_selection import train_test_split\n",
    "from sklearn.linear_model import LinearRegression"
   ]
  },
  {
   "cell_type": "code",
   "execution_count": 115,
   "id": "8b04ffb5",
   "metadata": {},
   "outputs": [],
   "source": [
    "warnings.filterwarnings('ignore') \n",
    "%matplotlib inline"
   ]
  },
  {
   "cell_type": "markdown",
   "id": "b682c1a5",
   "metadata": {},
   "source": [
    "### Read Data From CSV File"
   ]
  },
  {
   "cell_type": "code",
   "execution_count": 116,
   "id": "b15778c2",
   "metadata": {},
   "outputs": [],
   "source": [
    "dataset = pd.read_csv('dataset.csv', names=['Populations', 'Profits'], header=None)"
   ]
  },
  {
   "cell_type": "markdown",
   "id": "ab5cf7ef",
   "metadata": {},
   "source": [
    "### Statistical Measurement"
   ]
  },
  {
   "cell_type": "code",
   "execution_count": 117,
   "id": "328796bc",
   "metadata": {},
   "outputs": [
    {
     "data": {
      "text/plain": [
       "pandas.core.frame.DataFrame"
      ]
     },
     "execution_count": 117,
     "metadata": {},
     "output_type": "execute_result"
    }
   ],
   "source": [
    "type(dataset) "
   ]
  },
  {
   "cell_type": "code",
   "execution_count": 118,
   "id": "747150ec",
   "metadata": {},
   "outputs": [
    {
     "data": {
      "text/html": [
       "<div>\n",
       "<style scoped>\n",
       "    .dataframe tbody tr th:only-of-type {\n",
       "        vertical-align: middle;\n",
       "    }\n",
       "\n",
       "    .dataframe tbody tr th {\n",
       "        vertical-align: top;\n",
       "    }\n",
       "\n",
       "    .dataframe thead th {\n",
       "        text-align: right;\n",
       "    }\n",
       "</style>\n",
       "<table border=\"1\" class=\"dataframe\">\n",
       "  <thead>\n",
       "    <tr style=\"text-align: right;\">\n",
       "      <th></th>\n",
       "      <th>Populations</th>\n",
       "      <th>Profits</th>\n",
       "    </tr>\n",
       "  </thead>\n",
       "  <tbody>\n",
       "    <tr>\n",
       "      <th>0</th>\n",
       "      <td>6.1101</td>\n",
       "      <td>17.5920</td>\n",
       "    </tr>\n",
       "    <tr>\n",
       "      <th>1</th>\n",
       "      <td>5.5277</td>\n",
       "      <td>9.1302</td>\n",
       "    </tr>\n",
       "    <tr>\n",
       "      <th>2</th>\n",
       "      <td>8.5186</td>\n",
       "      <td>13.6620</td>\n",
       "    </tr>\n",
       "    <tr>\n",
       "      <th>3</th>\n",
       "      <td>7.0032</td>\n",
       "      <td>11.8540</td>\n",
       "    </tr>\n",
       "    <tr>\n",
       "      <th>4</th>\n",
       "      <td>5.8598</td>\n",
       "      <td>6.8233</td>\n",
       "    </tr>\n",
       "  </tbody>\n",
       "</table>\n",
       "</div>"
      ],
      "text/plain": [
       "   Populations  Profits\n",
       "0       6.1101  17.5920\n",
       "1       5.5277   9.1302\n",
       "2       8.5186  13.6620\n",
       "3       7.0032  11.8540\n",
       "4       5.8598   6.8233"
      ]
     },
     "execution_count": 118,
     "metadata": {},
     "output_type": "execute_result"
    }
   ],
   "source": [
    "first_5_rows = dataset.head()\n",
    "first_5_rows"
   ]
  },
  {
   "cell_type": "code",
   "execution_count": 119,
   "id": "95747b69",
   "metadata": {},
   "outputs": [
    {
     "data": {
      "text/html": [
       "<div>\n",
       "<style scoped>\n",
       "    .dataframe tbody tr th:only-of-type {\n",
       "        vertical-align: middle;\n",
       "    }\n",
       "\n",
       "    .dataframe tbody tr th {\n",
       "        vertical-align: top;\n",
       "    }\n",
       "\n",
       "    .dataframe thead th {\n",
       "        text-align: right;\n",
       "    }\n",
       "</style>\n",
       "<table border=\"1\" class=\"dataframe\">\n",
       "  <thead>\n",
       "    <tr style=\"text-align: right;\">\n",
       "      <th></th>\n",
       "      <th>Populations</th>\n",
       "      <th>Profits</th>\n",
       "    </tr>\n",
       "  </thead>\n",
       "  <tbody>\n",
       "    <tr>\n",
       "      <th>92</th>\n",
       "      <td>5.8707</td>\n",
       "      <td>7.20290</td>\n",
       "    </tr>\n",
       "    <tr>\n",
       "      <th>93</th>\n",
       "      <td>5.3054</td>\n",
       "      <td>1.98690</td>\n",
       "    </tr>\n",
       "    <tr>\n",
       "      <th>94</th>\n",
       "      <td>8.2934</td>\n",
       "      <td>0.14454</td>\n",
       "    </tr>\n",
       "    <tr>\n",
       "      <th>95</th>\n",
       "      <td>13.3940</td>\n",
       "      <td>9.05510</td>\n",
       "    </tr>\n",
       "    <tr>\n",
       "      <th>96</th>\n",
       "      <td>5.4369</td>\n",
       "      <td>0.61705</td>\n",
       "    </tr>\n",
       "  </tbody>\n",
       "</table>\n",
       "</div>"
      ],
      "text/plain": [
       "    Populations  Profits\n",
       "92       5.8707  7.20290\n",
       "93       5.3054  1.98690\n",
       "94       8.2934  0.14454\n",
       "95      13.3940  9.05510\n",
       "96       5.4369  0.61705"
      ]
     },
     "execution_count": 119,
     "metadata": {},
     "output_type": "execute_result"
    }
   ],
   "source": [
    "last_5_rows = dataset.tail()\n",
    "last_5_rows"
   ]
  },
  {
   "cell_type": "code",
   "execution_count": 120,
   "id": "d318e10b",
   "metadata": {},
   "outputs": [],
   "source": [
    "pd.options.display.min_rows = 60 "
   ]
  },
  {
   "cell_type": "code",
   "execution_count": 121,
   "id": "904e8ca4",
   "metadata": {},
   "outputs": [
    {
     "data": {
      "text/html": [
       "<style type=\"text/css\">\n",
       "#T_49e66_row0_col0 {\n",
       "  background-color: #fee2d5;\n",
       "  color: #000000;\n",
       "}\n",
       "#T_49e66_row0_col1, #T_49e66_row11_col0 {\n",
       "  background-color: #67000d;\n",
       "  color: #f1f1f1;\n",
       "}\n",
       "#T_49e66_row1_col0 {\n",
       "  background-color: #ffece4;\n",
       "  color: #000000;\n",
       "}\n",
       "#T_49e66_row1_col1 {\n",
       "  background-color: #fb694a;\n",
       "  color: #f1f1f1;\n",
       "}\n",
       "#T_49e66_row2_col0 {\n",
       "  background-color: #fc9070;\n",
       "  color: #000000;\n",
       "}\n",
       "#T_49e66_row2_col1 {\n",
       "  background-color: #c5171c;\n",
       "  color: #f1f1f1;\n",
       "}\n",
       "#T_49e66_row3_col0 {\n",
       "  background-color: #fdc6b0;\n",
       "  color: #000000;\n",
       "}\n",
       "#T_49e66_row3_col1 {\n",
       "  background-color: #e43027;\n",
       "  color: #f1f1f1;\n",
       "}\n",
       "#T_49e66_row4_col0 {\n",
       "  background-color: #fee7db;\n",
       "  color: #000000;\n",
       "}\n",
       "#T_49e66_row4_col1, #T_49e66_row13_col0 {\n",
       "  background-color: #fc9474;\n",
       "  color: #000000;\n",
       "}\n",
       "#T_49e66_row5_col0 {\n",
       "  background-color: #fc9576;\n",
       "  color: #000000;\n",
       "}\n",
       "#T_49e66_row5_col1 {\n",
       "  background-color: #e32f27;\n",
       "  color: #f1f1f1;\n",
       "}\n",
       "#T_49e66_row6_col0 {\n",
       "  background-color: #fcb69b;\n",
       "  color: #000000;\n",
       "}\n",
       "#T_49e66_row6_col1, #T_49e66_row19_col0 {\n",
       "  background-color: #fcc4ad;\n",
       "  color: #000000;\n",
       "}\n",
       "#T_49e66_row7_col0 {\n",
       "  background-color: #fc8e6e;\n",
       "  color: #000000;\n",
       "}\n",
       "#T_49e66_row7_col1 {\n",
       "  background-color: #e22e27;\n",
       "  color: #f1f1f1;\n",
       "}\n",
       "#T_49e66_row8_col0, #T_49e66_row10_col1 {\n",
       "  background-color: #fdd7c6;\n",
       "  color: #000000;\n",
       "}\n",
       "#T_49e66_row8_col1 {\n",
       "  background-color: #fc997a;\n",
       "  color: #000000;\n",
       "}\n",
       "#T_49e66_row9_col0, #T_49e66_row17_col1 {\n",
       "  background-color: #fff5f0;\n",
       "  color: #000000;\n",
       "}\n",
       "#T_49e66_row9_col1 {\n",
       "  background-color: #fdcdb9;\n",
       "  color: #000000;\n",
       "}\n",
       "#T_49e66_row10_col0 {\n",
       "  background-color: #fee9df;\n",
       "  color: #000000;\n",
       "}\n",
       "#T_49e66_row11_col1 {\n",
       "  background-color: #a30f15;\n",
       "  color: #f1f1f1;\n",
       "}\n",
       "#T_49e66_row12_col0 {\n",
       "  background-color: #fee8de;\n",
       "  color: #000000;\n",
       "}\n",
       "#T_49e66_row12_col1, #T_49e66_row18_col0 {\n",
       "  background-color: #fed9c9;\n",
       "  color: #000000;\n",
       "}\n",
       "#T_49e66_row13_col1 {\n",
       "  background-color: #fc8d6d;\n",
       "  color: #f1f1f1;\n",
       "}\n",
       "#T_49e66_row14_col0 {\n",
       "  background-color: #feeae1;\n",
       "  color: #000000;\n",
       "}\n",
       "#T_49e66_row14_col1, #T_49e66_row17_col0 {\n",
       "  background-color: #fff4ee;\n",
       "  color: #000000;\n",
       "}\n",
       "#T_49e66_row15_col0 {\n",
       "  background-color: #ffefe8;\n",
       "  color: #000000;\n",
       "}\n",
       "#T_49e66_row15_col1 {\n",
       "  background-color: #fdd2bf;\n",
       "  color: #000000;\n",
       "}\n",
       "#T_49e66_row16_col0 {\n",
       "  background-color: #fedbcc;\n",
       "  color: #000000;\n",
       "}\n",
       "#T_49e66_row16_col1 {\n",
       "  background-color: #fcb296;\n",
       "  color: #000000;\n",
       "}\n",
       "#T_49e66_row18_col1 {\n",
       "  background-color: #fdd0bc;\n",
       "  color: #000000;\n",
       "}\n",
       "#T_49e66_row19_col1 {\n",
       "  background-color: #fcb095;\n",
       "  color: #000000;\n",
       "}\n",
       "</style>\n",
       "<table id=\"T_49e66\">\n",
       "  <thead>\n",
       "    <tr>\n",
       "      <th class=\"blank level0\" >&nbsp;</th>\n",
       "      <th id=\"T_49e66_level0_col0\" class=\"col_heading level0 col0\" >Populations</th>\n",
       "      <th id=\"T_49e66_level0_col1\" class=\"col_heading level0 col1\" >Profits</th>\n",
       "    </tr>\n",
       "  </thead>\n",
       "  <tbody>\n",
       "    <tr>\n",
       "      <th id=\"T_49e66_level0_row0\" class=\"row_heading level0 row0\" >0</th>\n",
       "      <td id=\"T_49e66_row0_col0\" class=\"data row0 col0\" >6.110100</td>\n",
       "      <td id=\"T_49e66_row0_col1\" class=\"data row0 col1\" >17.592000</td>\n",
       "    </tr>\n",
       "    <tr>\n",
       "      <th id=\"T_49e66_level0_row1\" class=\"row_heading level0 row1\" >1</th>\n",
       "      <td id=\"T_49e66_row1_col0\" class=\"data row1 col0\" >5.527700</td>\n",
       "      <td id=\"T_49e66_row1_col1\" class=\"data row1 col1\" >9.130200</td>\n",
       "    </tr>\n",
       "    <tr>\n",
       "      <th id=\"T_49e66_level0_row2\" class=\"row_heading level0 row2\" >2</th>\n",
       "      <td id=\"T_49e66_row2_col0\" class=\"data row2 col0\" >8.518600</td>\n",
       "      <td id=\"T_49e66_row2_col1\" class=\"data row2 col1\" >13.662000</td>\n",
       "    </tr>\n",
       "    <tr>\n",
       "      <th id=\"T_49e66_level0_row3\" class=\"row_heading level0 row3\" >3</th>\n",
       "      <td id=\"T_49e66_row3_col0\" class=\"data row3 col0\" >7.003200</td>\n",
       "      <td id=\"T_49e66_row3_col1\" class=\"data row3 col1\" >11.854000</td>\n",
       "    </tr>\n",
       "    <tr>\n",
       "      <th id=\"T_49e66_level0_row4\" class=\"row_heading level0 row4\" >4</th>\n",
       "      <td id=\"T_49e66_row4_col0\" class=\"data row4 col0\" >5.859800</td>\n",
       "      <td id=\"T_49e66_row4_col1\" class=\"data row4 col1\" >6.823300</td>\n",
       "    </tr>\n",
       "    <tr>\n",
       "      <th id=\"T_49e66_level0_row5\" class=\"row_heading level0 row5\" >5</th>\n",
       "      <td id=\"T_49e66_row5_col0\" class=\"data row5 col0\" >8.382900</td>\n",
       "      <td id=\"T_49e66_row5_col1\" class=\"data row5 col1\" >11.886000</td>\n",
       "    </tr>\n",
       "    <tr>\n",
       "      <th id=\"T_49e66_level0_row6\" class=\"row_heading level0 row6\" >6</th>\n",
       "      <td id=\"T_49e66_row6_col0\" class=\"data row6 col0\" >7.476400</td>\n",
       "      <td id=\"T_49e66_row6_col1\" class=\"data row6 col1\" >4.348300</td>\n",
       "    </tr>\n",
       "    <tr>\n",
       "      <th id=\"T_49e66_level0_row7\" class=\"row_heading level0 row7\" >7</th>\n",
       "      <td id=\"T_49e66_row7_col0\" class=\"data row7 col0\" >8.578100</td>\n",
       "      <td id=\"T_49e66_row7_col1\" class=\"data row7 col1\" >12.000000</td>\n",
       "    </tr>\n",
       "    <tr>\n",
       "      <th id=\"T_49e66_level0_row8\" class=\"row_heading level0 row8\" >8</th>\n",
       "      <td id=\"T_49e66_row8_col0\" class=\"data row8 col0\" >6.486200</td>\n",
       "      <td id=\"T_49e66_row8_col1\" class=\"data row8 col1\" >6.598700</td>\n",
       "    </tr>\n",
       "    <tr>\n",
       "      <th id=\"T_49e66_level0_row9\" class=\"row_heading level0 row9\" >9</th>\n",
       "      <td id=\"T_49e66_row9_col0\" class=\"data row9 col0\" >5.054600</td>\n",
       "      <td id=\"T_49e66_row9_col1\" class=\"data row9 col1\" >3.816600</td>\n",
       "    </tr>\n",
       "    <tr>\n",
       "      <th id=\"T_49e66_level0_row10\" class=\"row_heading level0 row10\" >10</th>\n",
       "      <td id=\"T_49e66_row10_col0\" class=\"data row10 col0\" >5.710700</td>\n",
       "      <td id=\"T_49e66_row10_col1\" class=\"data row10 col1\" >3.252200</td>\n",
       "    </tr>\n",
       "    <tr>\n",
       "      <th id=\"T_49e66_level0_row11\" class=\"row_heading level0 row11\" >11</th>\n",
       "      <td id=\"T_49e66_row11_col0\" class=\"data row11 col0\" >14.164000</td>\n",
       "      <td id=\"T_49e66_row11_col1\" class=\"data row11 col1\" >15.505000</td>\n",
       "    </tr>\n",
       "    <tr>\n",
       "      <th id=\"T_49e66_level0_row12\" class=\"row_heading level0 row12\" >12</th>\n",
       "      <td id=\"T_49e66_row12_col0\" class=\"data row12 col0\" >5.734000</td>\n",
       "      <td id=\"T_49e66_row12_col1\" class=\"data row12 col1\" >3.155100</td>\n",
       "    </tr>\n",
       "    <tr>\n",
       "      <th id=\"T_49e66_level0_row13\" class=\"row_heading level0 row13\" >13</th>\n",
       "      <td id=\"T_49e66_row13_col0\" class=\"data row13 col0\" >8.408400</td>\n",
       "      <td id=\"T_49e66_row13_col1\" class=\"data row13 col1\" >7.225800</td>\n",
       "    </tr>\n",
       "    <tr>\n",
       "      <th id=\"T_49e66_level0_row14\" class=\"row_heading level0 row14\" >14</th>\n",
       "      <td id=\"T_49e66_row14_col0\" class=\"data row14 col0\" >5.640700</td>\n",
       "      <td id=\"T_49e66_row14_col1\" class=\"data row14 col1\" >0.716180</td>\n",
       "    </tr>\n",
       "    <tr>\n",
       "      <th id=\"T_49e66_level0_row15\" class=\"row_heading level0 row15\" >15</th>\n",
       "      <td id=\"T_49e66_row15_col0\" class=\"data row15 col0\" >5.379400</td>\n",
       "      <td id=\"T_49e66_row15_col1\" class=\"data row15 col1\" >3.512900</td>\n",
       "    </tr>\n",
       "    <tr>\n",
       "      <th id=\"T_49e66_level0_row16\" class=\"row_heading level0 row16\" >16</th>\n",
       "      <td id=\"T_49e66_row16_col0\" class=\"data row16 col0\" >6.365400</td>\n",
       "      <td id=\"T_49e66_row16_col1\" class=\"data row16 col1\" >5.304800</td>\n",
       "    </tr>\n",
       "    <tr>\n",
       "      <th id=\"T_49e66_level0_row17\" class=\"row_heading level0 row17\" >17</th>\n",
       "      <td id=\"T_49e66_row17_col0\" class=\"data row17 col0\" >5.130100</td>\n",
       "      <td id=\"T_49e66_row17_col1\" class=\"data row17 col1\" >0.560770</td>\n",
       "    </tr>\n",
       "    <tr>\n",
       "      <th id=\"T_49e66_level0_row18\" class=\"row_heading level0 row18\" >18</th>\n",
       "      <td id=\"T_49e66_row18_col0\" class=\"data row18 col0\" >6.429600</td>\n",
       "      <td id=\"T_49e66_row18_col1\" class=\"data row18 col1\" >3.651800</td>\n",
       "    </tr>\n",
       "    <tr>\n",
       "      <th id=\"T_49e66_level0_row19\" class=\"row_heading level0 row19\" >19</th>\n",
       "      <td id=\"T_49e66_row19_col0\" class=\"data row19 col0\" >7.070800</td>\n",
       "      <td id=\"T_49e66_row19_col1\" class=\"data row19 col1\" >5.389300</td>\n",
       "    </tr>\n",
       "  </tbody>\n",
       "</table>\n"
      ],
      "text/plain": [
       "<pandas.io.formats.style.Styler at 0x166464c10>"
      ]
     },
     "execution_count": 121,
     "metadata": {},
     "output_type": "execute_result"
    }
   ],
   "source": [
    "dataset.head(20).style.background_gradient(cmap='Reds')"
   ]
  },
  {
   "cell_type": "code",
   "execution_count": 122,
   "id": "17a01f16",
   "metadata": {},
   "outputs": [
    {
     "data": {
      "text/plain": [
       "pandas.core.frame.DataFrame"
      ]
     },
     "execution_count": 122,
     "metadata": {},
     "output_type": "execute_result"
    }
   ],
   "source": [
    "type(first_5_rows)"
   ]
  },
  {
   "cell_type": "code",
   "execution_count": 123,
   "id": "b652ac7a",
   "metadata": {},
   "outputs": [
    {
     "data": {
      "text/plain": [
       "pandas.core.frame.DataFrame"
      ]
     },
     "execution_count": 123,
     "metadata": {},
     "output_type": "execute_result"
    }
   ],
   "source": [
    "type(last_5_rows)"
   ]
  },
  {
   "cell_type": "code",
   "execution_count": 124,
   "id": "d20fcfb3",
   "metadata": {},
   "outputs": [
    {
     "data": {
      "text/plain": [
       "Index(['Populations', 'Profits'], dtype='object')"
      ]
     },
     "execution_count": 124,
     "metadata": {},
     "output_type": "execute_result"
    }
   ],
   "source": [
    "dataset.columns"
   ]
  },
  {
   "cell_type": "code",
   "execution_count": 125,
   "id": "2ab295b8",
   "metadata": {},
   "outputs": [
    {
     "data": {
      "text/html": [
       "<div>\n",
       "<style scoped>\n",
       "    .dataframe tbody tr th:only-of-type {\n",
       "        vertical-align: middle;\n",
       "    }\n",
       "\n",
       "    .dataframe tbody tr th {\n",
       "        vertical-align: top;\n",
       "    }\n",
       "\n",
       "    .dataframe thead th {\n",
       "        text-align: right;\n",
       "    }\n",
       "</style>\n",
       "<table border=\"1\" class=\"dataframe\">\n",
       "  <thead>\n",
       "    <tr style=\"text-align: right;\">\n",
       "      <th></th>\n",
       "      <th>Populations</th>\n",
       "      <th>Profits</th>\n",
       "    </tr>\n",
       "  </thead>\n",
       "  <tbody>\n",
       "    <tr>\n",
       "      <th>count</th>\n",
       "      <td>97.000000</td>\n",
       "      <td>97.000000</td>\n",
       "    </tr>\n",
       "    <tr>\n",
       "      <th>mean</th>\n",
       "      <td>8.159800</td>\n",
       "      <td>5.839135</td>\n",
       "    </tr>\n",
       "    <tr>\n",
       "      <th>std</th>\n",
       "      <td>3.869884</td>\n",
       "      <td>5.510262</td>\n",
       "    </tr>\n",
       "    <tr>\n",
       "      <th>min</th>\n",
       "      <td>5.026900</td>\n",
       "      <td>-2.680700</td>\n",
       "    </tr>\n",
       "    <tr>\n",
       "      <th>25%</th>\n",
       "      <td>5.707700</td>\n",
       "      <td>1.986900</td>\n",
       "    </tr>\n",
       "    <tr>\n",
       "      <th>50%</th>\n",
       "      <td>6.589400</td>\n",
       "      <td>4.562300</td>\n",
       "    </tr>\n",
       "    <tr>\n",
       "      <th>75%</th>\n",
       "      <td>8.578100</td>\n",
       "      <td>7.046700</td>\n",
       "    </tr>\n",
       "    <tr>\n",
       "      <th>max</th>\n",
       "      <td>22.203000</td>\n",
       "      <td>24.147000</td>\n",
       "    </tr>\n",
       "  </tbody>\n",
       "</table>\n",
       "</div>"
      ],
      "text/plain": [
       "       Populations    Profits\n",
       "count    97.000000  97.000000\n",
       "mean      8.159800   5.839135\n",
       "std       3.869884   5.510262\n",
       "min       5.026900  -2.680700\n",
       "25%       5.707700   1.986900\n",
       "50%       6.589400   4.562300\n",
       "75%       8.578100   7.046700\n",
       "max      22.203000  24.147000"
      ]
     },
     "execution_count": 125,
     "metadata": {},
     "output_type": "execute_result"
    }
   ],
   "source": [
    "dataset.describe() "
   ]
  },
  {
   "cell_type": "code",
   "execution_count": 126,
   "id": "c25ba191",
   "metadata": {},
   "outputs": [
    {
     "name": "stdout",
     "output_type": "stream",
     "text": [
      "<class 'pandas.core.frame.DataFrame'>\n",
      "RangeIndex: 97 entries, 0 to 96\n",
      "Data columns (total 2 columns):\n",
      " #   Column       Non-Null Count  Dtype  \n",
      "---  ------       --------------  -----  \n",
      " 0   Populations  97 non-null     float64\n",
      " 1   Profits      97 non-null     float64\n",
      "dtypes: float64(2)\n",
      "memory usage: 1.6 KB\n"
     ]
    }
   ],
   "source": [
    "dataset.info()"
   ]
  },
  {
   "cell_type": "code",
   "execution_count": 127,
   "id": "bda4c7e9",
   "metadata": {},
   "outputs": [
    {
     "data": {
      "text/plain": [
       "Populations    float64\n",
       "Profits        float64\n",
       "dtype: object"
      ]
     },
     "execution_count": 127,
     "metadata": {},
     "output_type": "execute_result"
    }
   ],
   "source": [
    "dataset.dtypes"
   ]
  },
  {
   "cell_type": "markdown",
   "id": "ef7030fc",
   "metadata": {},
   "source": [
    "### The highiest number of populations"
   ]
  },
  {
   "cell_type": "code",
   "execution_count": 128,
   "id": "4d6d5425",
   "metadata": {},
   "outputs": [
    {
     "data": {
      "text/plain": [
       "22.203"
      ]
     },
     "execution_count": 128,
     "metadata": {},
     "output_type": "execute_result"
    }
   ],
   "source": [
    "dataset['Populations'].max()"
   ]
  },
  {
   "cell_type": "markdown",
   "id": "e6460149",
   "metadata": {},
   "source": [
    "### The lowiest number of Populations"
   ]
  },
  {
   "cell_type": "code",
   "execution_count": 129,
   "id": "131c966e",
   "metadata": {},
   "outputs": [
    {
     "data": {
      "text/plain": [
       "5.0269"
      ]
     },
     "execution_count": 129,
     "metadata": {},
     "output_type": "execute_result"
    }
   ],
   "source": [
    "dataset['Populations'].min()"
   ]
  },
  {
   "cell_type": "markdown",
   "id": "2cc4c6ba",
   "metadata": {},
   "source": [
    "### Shape of the dataset"
   ]
  },
  {
   "cell_type": "code",
   "execution_count": 130,
   "id": "ac563fd5",
   "metadata": {},
   "outputs": [
    {
     "data": {
      "text/plain": [
       "(97, 2)"
      ]
     },
     "execution_count": 130,
     "metadata": {},
     "output_type": "execute_result"
    }
   ],
   "source": [
    "dataset.shape"
   ]
  },
  {
   "cell_type": "markdown",
   "id": "ae3bf69c",
   "metadata": {},
   "source": [
    "### The row contains the lowest number of populations"
   ]
  },
  {
   "cell_type": "code",
   "execution_count": 131,
   "id": "8ebe3c1c",
   "metadata": {},
   "outputs": [
    {
     "data": {
      "text/html": [
       "<style type=\"text/css\">\n",
       "#T_6a3e9_row0_col0, #T_6a3e9_row0_col1 {\n",
       "  background-color: #f7fbff;\n",
       "  color: #000000;\n",
       "}\n",
       "</style>\n",
       "<table id=\"T_6a3e9\">\n",
       "  <thead>\n",
       "    <tr>\n",
       "      <th class=\"blank level0\" >&nbsp;</th>\n",
       "      <th id=\"T_6a3e9_level0_col0\" class=\"col_heading level0 col0\" >Populations</th>\n",
       "      <th id=\"T_6a3e9_level0_col1\" class=\"col_heading level0 col1\" >Profits</th>\n",
       "    </tr>\n",
       "  </thead>\n",
       "  <tbody>\n",
       "    <tr>\n",
       "      <th id=\"T_6a3e9_level0_row0\" class=\"row_heading level0 row0\" >74</th>\n",
       "      <td id=\"T_6a3e9_row0_col0\" class=\"data row0 col0\" >5.026900</td>\n",
       "      <td id=\"T_6a3e9_row0_col1\" class=\"data row0 col1\" >-2.680700</td>\n",
       "    </tr>\n",
       "  </tbody>\n",
       "</table>\n"
      ],
      "text/plain": [
       "<pandas.io.formats.style.Styler at 0x1668db1d0>"
      ]
     },
     "execution_count": 131,
     "metadata": {},
     "output_type": "execute_result"
    }
   ],
   "source": [
    "dataset[dataset['Populations'] == dataset['Populations'].min()].style.background_gradient(cmap='Blues')"
   ]
  },
  {
   "cell_type": "markdown",
   "id": "acb31bfc",
   "metadata": {},
   "source": [
    "### The row contains the highest number of populations"
   ]
  },
  {
   "cell_type": "code",
   "execution_count": 132,
   "id": "d736e057",
   "metadata": {},
   "outputs": [
    {
     "data": {
      "text/html": [
       "<div>\n",
       "<style scoped>\n",
       "    .dataframe tbody tr th:only-of-type {\n",
       "        vertical-align: middle;\n",
       "    }\n",
       "\n",
       "    .dataframe tbody tr th {\n",
       "        vertical-align: top;\n",
       "    }\n",
       "\n",
       "    .dataframe thead th {\n",
       "        text-align: right;\n",
       "    }\n",
       "</style>\n",
       "<table border=\"1\" class=\"dataframe\">\n",
       "  <thead>\n",
       "    <tr style=\"text-align: right;\">\n",
       "      <th></th>\n",
       "      <th>Populations</th>\n",
       "      <th>Profits</th>\n",
       "    </tr>\n",
       "  </thead>\n",
       "  <tbody>\n",
       "    <tr>\n",
       "      <th>29</th>\n",
       "      <td>22.203</td>\n",
       "      <td>24.147</td>\n",
       "    </tr>\n",
       "  </tbody>\n",
       "</table>\n",
       "</div>"
      ],
      "text/plain": [
       "    Populations  Profits\n",
       "29       22.203   24.147"
      ]
     },
     "execution_count": 132,
     "metadata": {},
     "output_type": "execute_result"
    }
   ],
   "source": [
    "dataset[dataset['Populations'] == dataset['Populations'].max()]"
   ]
  },
  {
   "cell_type": "markdown",
   "id": "07023f05",
   "metadata": {},
   "source": [
    "### The row contains the lowest amount of profit"
   ]
  },
  {
   "cell_type": "code",
   "execution_count": 133,
   "id": "fa3c850e",
   "metadata": {},
   "outputs": [
    {
     "data": {
      "text/html": [
       "<div>\n",
       "<style scoped>\n",
       "    .dataframe tbody tr th:only-of-type {\n",
       "        vertical-align: middle;\n",
       "    }\n",
       "\n",
       "    .dataframe tbody tr th {\n",
       "        vertical-align: top;\n",
       "    }\n",
       "\n",
       "    .dataframe thead th {\n",
       "        text-align: right;\n",
       "    }\n",
       "</style>\n",
       "<table border=\"1\" class=\"dataframe\">\n",
       "  <thead>\n",
       "    <tr style=\"text-align: right;\">\n",
       "      <th></th>\n",
       "      <th>Populations</th>\n",
       "      <th>Profits</th>\n",
       "    </tr>\n",
       "  </thead>\n",
       "  <tbody>\n",
       "    <tr>\n",
       "      <th>74</th>\n",
       "      <td>5.0269</td>\n",
       "      <td>-2.6807</td>\n",
       "    </tr>\n",
       "  </tbody>\n",
       "</table>\n",
       "</div>"
      ],
      "text/plain": [
       "    Populations  Profits\n",
       "74       5.0269  -2.6807"
      ]
     },
     "execution_count": 133,
     "metadata": {},
     "output_type": "execute_result"
    }
   ],
   "source": [
    "dataset[dataset['Profits'] == dataset['Profits'].min()]"
   ]
  },
  {
   "cell_type": "markdown",
   "id": "44478937",
   "metadata": {},
   "source": [
    "### The row contains the highest amount of profit"
   ]
  },
  {
   "cell_type": "code",
   "execution_count": 134,
   "id": "9610b764",
   "metadata": {},
   "outputs": [
    {
     "data": {
      "text/html": [
       "<div>\n",
       "<style scoped>\n",
       "    .dataframe tbody tr th:only-of-type {\n",
       "        vertical-align: middle;\n",
       "    }\n",
       "\n",
       "    .dataframe tbody tr th {\n",
       "        vertical-align: top;\n",
       "    }\n",
       "\n",
       "    .dataframe thead th {\n",
       "        text-align: right;\n",
       "    }\n",
       "</style>\n",
       "<table border=\"1\" class=\"dataframe\">\n",
       "  <thead>\n",
       "    <tr style=\"text-align: right;\">\n",
       "      <th></th>\n",
       "      <th>Populations</th>\n",
       "      <th>Profits</th>\n",
       "    </tr>\n",
       "  </thead>\n",
       "  <tbody>\n",
       "    <tr>\n",
       "      <th>29</th>\n",
       "      <td>22.203</td>\n",
       "      <td>24.147</td>\n",
       "    </tr>\n",
       "  </tbody>\n",
       "</table>\n",
       "</div>"
      ],
      "text/plain": [
       "    Populations  Profits\n",
       "29       22.203   24.147"
      ]
     },
     "execution_count": 134,
     "metadata": {},
     "output_type": "execute_result"
    }
   ],
   "source": [
    "dataset[dataset['Profits'] == dataset['Profits'].max()]"
   ]
  },
  {
   "cell_type": "code",
   "execution_count": 135,
   "id": "948f5b5b",
   "metadata": {},
   "outputs": [
    {
     "data": {
      "text/plain": [
       "Populations    791.5006\n",
       "Profits        566.3961\n",
       "dtype: float64"
      ]
     },
     "execution_count": 135,
     "metadata": {},
     "output_type": "execute_result"
    }
   ],
   "source": [
    "dataset.sum()"
   ]
  },
  {
   "cell_type": "code",
   "execution_count": 136,
   "id": "4dfb7402",
   "metadata": {},
   "outputs": [
    {
     "data": {
      "text/plain": [
       "791.5006"
      ]
     },
     "execution_count": 136,
     "metadata": {},
     "output_type": "execute_result"
    }
   ],
   "source": [
    "dataset['Populations'].sum()"
   ]
  },
  {
   "cell_type": "code",
   "execution_count": 137,
   "id": "06289443",
   "metadata": {},
   "outputs": [
    {
     "data": {
      "text/plain": [
       "566.3961"
      ]
     },
     "execution_count": 137,
     "metadata": {},
     "output_type": "execute_result"
    }
   ],
   "source": [
    "dataset['Profits'].sum()"
   ]
  },
  {
   "cell_type": "markdown",
   "id": "46f23274",
   "metadata": {},
   "source": [
    "### amount of null values in the dataset"
   ]
  },
  {
   "cell_type": "code",
   "execution_count": 138,
   "id": "5d91e77e",
   "metadata": {},
   "outputs": [
    {
     "data": {
      "text/plain": [
       "Populations    0\n",
       "Profits        0\n",
       "dtype: int64"
      ]
     },
     "execution_count": 138,
     "metadata": {},
     "output_type": "execute_result"
    }
   ],
   "source": [
    "dataset.isna().sum()"
   ]
  },
  {
   "cell_type": "markdown",
   "id": "72ca583d",
   "metadata": {},
   "source": [
    "### Spreate the dataset into dependent and independent"
   ]
  },
  {
   "cell_type": "markdown",
   "id": "838cd82e",
   "metadata": {},
   "source": [
    "### insert a new row to the dataset contains a value of 1 at the first row as X0 = 1"
   ]
  },
  {
   "cell_type": "code",
   "execution_count": 139,
   "id": "0ebe5520",
   "metadata": {},
   "outputs": [
    {
     "data": {
      "text/html": [
       "<div>\n",
       "<style scoped>\n",
       "    .dataframe tbody tr th:only-of-type {\n",
       "        vertical-align: middle;\n",
       "    }\n",
       "\n",
       "    .dataframe tbody tr th {\n",
       "        vertical-align: top;\n",
       "    }\n",
       "\n",
       "    .dataframe thead th {\n",
       "        text-align: right;\n",
       "    }\n",
       "</style>\n",
       "<table border=\"1\" class=\"dataframe\">\n",
       "  <thead>\n",
       "    <tr style=\"text-align: right;\">\n",
       "      <th></th>\n",
       "      <th>Ones</th>\n",
       "      <th>Populations</th>\n",
       "      <th>Profits</th>\n",
       "    </tr>\n",
       "  </thead>\n",
       "  <tbody>\n",
       "    <tr>\n",
       "      <th>0</th>\n",
       "      <td>1</td>\n",
       "      <td>6.1101</td>\n",
       "      <td>17.5920</td>\n",
       "    </tr>\n",
       "    <tr>\n",
       "      <th>1</th>\n",
       "      <td>1</td>\n",
       "      <td>5.5277</td>\n",
       "      <td>9.1302</td>\n",
       "    </tr>\n",
       "    <tr>\n",
       "      <th>2</th>\n",
       "      <td>1</td>\n",
       "      <td>8.5186</td>\n",
       "      <td>13.6620</td>\n",
       "    </tr>\n",
       "    <tr>\n",
       "      <th>3</th>\n",
       "      <td>1</td>\n",
       "      <td>7.0032</td>\n",
       "      <td>11.8540</td>\n",
       "    </tr>\n",
       "    <tr>\n",
       "      <th>4</th>\n",
       "      <td>1</td>\n",
       "      <td>5.8598</td>\n",
       "      <td>6.8233</td>\n",
       "    </tr>\n",
       "  </tbody>\n",
       "</table>\n",
       "</div>"
      ],
      "text/plain": [
       "   Ones  Populations  Profits\n",
       "0     1       6.1101  17.5920\n",
       "1     1       5.5277   9.1302\n",
       "2     1       8.5186  13.6620\n",
       "3     1       7.0032  11.8540\n",
       "4     1       5.8598   6.8233"
      ]
     },
     "execution_count": 139,
     "metadata": {},
     "output_type": "execute_result"
    }
   ],
   "source": [
    "dataset.insert(0, 'Ones', 1)\n",
    "dataset.head()"
   ]
  },
  {
   "cell_type": "markdown",
   "id": "56250985",
   "metadata": {},
   "source": [
    "### Visualising all data using scatter"
   ]
  },
  {
   "cell_type": "code",
   "execution_count": 164,
   "id": "323b38f9",
   "metadata": {},
   "outputs": [
    {
     "data": {
      "image/png": "[encoded data removed]",
      "text/plain": [
       "<Figure size 600x400 with 1 Axes>"
      ]
     },
     "metadata": {},
     "output_type": "display_data"
    }
   ],
   "source": [
    "x_data = dataset.drop(['Profits', 'Ones'], axis=1)\n",
    "y_data = dataset['Profits']\n",
    "\n",
    "plt.figure(figsize=(6, 4))\n",
    "plt.style.use('ggplot')\n",
    "plt.scatter(x_data, y_data)\n",
    "plt.xlabel('Population')\n",
    "plt.ylabel('Profits')\n",
    "plt.title('Populations Vs. Profits')\n",
    "plt.show()"
   ]
  },
  {
   "cell_type": "markdown",
   "id": "6ce36129",
   "metadata": {},
   "source": [
    "### Visualising the X and y data"
   ]
  },
  {
   "cell_type": "code",
   "execution_count": 141,
   "id": "7b778b60",
   "metadata": {},
   "outputs": [
    {
     "data": {
      "image/png": "[encoded data removed]",
      "text/plain": [
       "<Figure size 1200x700 with 6 Axes>"
      ]
     },
     "metadata": {},
     "output_type": "display_data"
    }
   ],
   "source": [
    "plt.figure(figsize=(12,7))\n",
    "plt.style.use('ggplot')\n",
    "plt.subplot(2, 3, 1)\n",
    "plt.hist(y_data, bins=50, color='blue', alpha=0.7)\n",
    "plt.xlabel('Profits', fontdict={'size': 12, 'color':'black'})\n",
    "plt.ylabel('Frequancy', fontdict={'color': 'black', 'size': 12})\n",
    "plt.title('Populations Vs. Frequancy', fontdict={'color':'black', 'size':12})\n",
    "\n",
    "plt.subplot(2,3,2)\n",
    "plt.hist(x_data, bins=40, color='blue', alpha=0.7,)\n",
    "plt.xlabel('Populations', fontdict={'size': 12, 'color':'black'})\n",
    "plt.ylabel('Frequancy', fontdict={'color': 'black', 'size': 12})\n",
    "plt.title('Populations Vs. Frequancy', fontdict={'color':'black', 'size':12})\n",
    "\n",
    "plt.subplot(2,3,3)\n",
    "sns.distplot(x_data, color='b')\n",
    "plt.xlabel('Populations', fontdict={'size': 12, 'color':'black'})\n",
    "plt.ylabel('Density', fontdict={'color': 'black', 'size': 12})\n",
    "plt.title('Populations Vs. Density', fontdict={'color':'black', 'size':12})\n",
    "\n",
    "plt.subplot(2, 3, 4)\n",
    "sns.distplot(y_data, color='b')\n",
    "plt.xlabel('Profits', fontdict={'size': 12, 'color':'black'})\n",
    "plt.ylabel('Density', fontdict={'color': 'black', 'size': 12})\n",
    "plt.title('Populations Vs. Density', fontdict={'color':'black', 'size':12})\n",
    "\n",
    "plt.subplot(2, 3, 5)\n",
    "sns.distplot(y_data, color='b')\n",
    "plt.xlabel('Profits', fontdict={'size': 12, 'color':'black'})\n",
    "plt.ylabel('Density', fontdict={'color': 'black', 'size': 12})\n",
    "plt.title('Populations Vs. Density', fontdict={'color':'black', 'size':12})\n",
    "\n",
    "plt.subplot(2, 3, 6)\n",
    "plt.scatter(x_data, y_data, color='b')\n",
    "plt.xlabel('Populations', fontdict={'size': 12, 'color':'black'})\n",
    "plt.ylabel('Profits', fontdict={'color': 'black', 'size': 12})\n",
    "plt.title('Populations Vs. Profits', fontdict={'color':'black', 'size':12})\n",
    "\n",
    "plt.grid(True)\n",
    "plt.tight_layout()\n",
    "plt.show()"
   ]
  },
  {
   "cell_type": "markdown",
   "id": "113d478d",
   "metadata": {},
   "source": [
    "### Visualising the corr between the columns"
   ]
  },
  {
   "cell_type": "code",
   "execution_count": 142,
   "id": "d7bb40a0",
   "metadata": {},
   "outputs": [
    {
     "data": {
      "image/png": "[encoded data removed]",
      "text/plain": [
       "<Figure size 700x600 with 2 Axes>"
      ]
     },
     "metadata": {},
     "output_type": "display_data"
    }
   ],
   "source": [
    "plt.figure(figsize= (7,6))\n",
    "sns.heatmap(dataset[['Populations', 'Profits']].corr(), cmap=\"YlGnBu\", annot=True, cbar=True, square=True, fmt='.2f') \n",
    "plt.show()"
   ]
  },
  {
   "cell_type": "markdown",
   "id": "dfb38ff8",
   "metadata": {},
   "source": [
    "### Compute the const value"
   ]
  },
  {
   "cell_type": "markdown",
   "id": "72f94294",
   "metadata": {},
   "source": [
    "### spreat X, y data and create a matrix for theta 0 and theta1"
   ]
  },
  {
   "cell_type": "code",
   "execution_count": 143,
   "id": "491d8782",
   "metadata": {},
   "outputs": [],
   "source": [
    "X =  np.matrix(dataset.iloc[: , : dataset.shape[1] - 1].values) \n",
    "y =  np.matrix(dataset.iloc[: , dataset.shape[1] - 1 : ].values)\n",
    "theta = np.matrix(np.zeros(X.shape[1]))"
   ]
  },
  {
   "cell_type": "markdown",
   "id": "e9a8ca57",
   "metadata": {},
   "source": [
    "### Compute the cost value"
   ]
  },
  {
   "cell_type": "code",
   "execution_count": 144,
   "id": "728a989e",
   "metadata": {},
   "outputs": [],
   "source": [
    "def compute_cost(X, y, theta) : \n",
    "    \n",
    "    product = np.power(((X * theta.T) - y), 2)\n",
    "     \n",
    "    return np.sum(product) / (2 * len(X))\n",
    "\n",
    "error = compute_cost(X, y , theta)"
   ]
  },
  {
   "cell_type": "code",
   "execution_count": 145,
   "id": "ddbb5dcf",
   "metadata": {},
   "outputs": [
    {
     "name": "stdout",
     "output_type": "stream",
     "text": [
      "error value is 32.072733877455676\n"
     ]
    }
   ],
   "source": [
    "print('error value is ' + str(error))"
   ]
  },
  {
   "cell_type": "markdown",
   "id": "a2c9adcc",
   "metadata": {},
   "source": [
    "### Grideante decent to find the best values for theta0 and theta1 "
   ]
  },
  {
   "cell_type": "code",
   "execution_count": 146,
   "id": "1d7629f9",
   "metadata": {},
   "outputs": [],
   "source": [
    "def grident_decient(X, y, theta, iterations, alpha) :\n",
    "    new_theta = np.matrix(np.zeros(X.shape[1]))\n",
    "    cost = np.zeros(iterations)\n",
    "    \n",
    "    for iteration in range(iterations) : \n",
    "        error = (X * theta.T) - y\n",
    "        \n",
    "        for parameters in range(X.shape[1]) : \n",
    "            temp = np.multiply(error, X[ : , parameters])\n",
    "            new_theta[0, parameters] = theta[0, parameters] - ((alpha * np.sum(temp)) / len(X))\n",
    "        theta = new_theta \n",
    "        cost[iteration] = compute_cost(X, y, theta)\n",
    "    return cost, theta"
   ]
  },
  {
   "cell_type": "code",
   "execution_count": 147,
   "id": "0711e9f6",
   "metadata": {},
   "outputs": [],
   "source": [
    "iterations  = 2000 \n",
    "alpha       = 0.01\n",
    "cost, theta = grident_decient(X, y, theta, iterations, alpha)"
   ]
  },
  {
   "cell_type": "code",
   "execution_count": 148,
   "id": "c41a6008",
   "metadata": {},
   "outputs": [
    {
     "name": "stdout",
     "output_type": "stream",
     "text": [
      "The perfict thetas are : [[-3.78806857  1.18221277]]\n"
     ]
    }
   ],
   "source": [
    "print('The perfict thetas are : ' + str(theta))"
   ]
  },
  {
   "cell_type": "code",
   "execution_count": 150,
   "id": "e6799aa5",
   "metadata": {},
   "outputs": [
    {
     "data": {
      "text/plain": [
       "array([ 2.15479682,  2.35990596,  2.5650151 ,  2.77012424,  2.97523338,\n",
       "        3.18034252,  3.38545166,  3.5905608 ,  3.79566994,  4.00077908,\n",
       "        4.20588822,  4.41099736,  4.6161065 ,  4.82121564,  5.02632478,\n",
       "        5.23143392,  5.43654306,  5.6416522 ,  5.84676134,  6.05187048,\n",
       "        6.25697962,  6.46208876,  6.6671979 ,  6.87230704,  7.07741618,\n",
       "        7.28252532,  7.48763446,  7.6927436 ,  7.89785274,  8.10296188,\n",
       "        8.30807102,  8.51318016,  8.7182893 ,  8.92339844,  9.12850758,\n",
       "        9.33361672,  9.53872586,  9.743835  ,  9.94894414, 10.15405328,\n",
       "       10.35916242, 10.56427156, 10.7693807 , 10.97448984, 11.17959898,\n",
       "       11.38470812, 11.58981726, 11.7949264 , 12.00003554, 12.20514468,\n",
       "       12.41025381, 12.61536295, 12.82047209, 13.02558123, 13.23069037,\n",
       "       13.43579951, 13.64090865, 13.84601779, 14.05112693, 14.25623607,\n",
       "       14.46134521, 14.66645435, 14.87156349, 15.07667263, 15.28178177,\n",
       "       15.48689091, 15.69200005, 15.89710919, 16.10221833, 16.30732747,\n",
       "       16.51243661, 16.71754575, 16.92265489, 17.12776403, 17.33287317,\n",
       "       17.53798231, 17.74309145, 17.94820059, 18.15330973, 18.35841887,\n",
       "       18.56352801, 18.76863715, 18.97374629, 19.17885543, 19.38396457,\n",
       "       19.58907371, 19.79418285, 19.99929199, 20.20440113, 20.40951027,\n",
       "       20.61461941, 20.81972855, 21.02483769, 21.22994683, 21.43505597,\n",
       "       21.64016511, 21.84527425, 22.05038339, 22.25549253, 22.46060167])"
      ]
     },
     "execution_count": 150,
     "metadata": {},
     "output_type": "execute_result"
    }
   ],
   "source": [
    "X = np.linspace(dataset['Populations'].min(), dataset['Populations'].max(), 100)\n",
    "prod = theta[0, 0] + (X * theta[0, 1])\n",
    "prod"
   ]
  },
  {
   "cell_type": "code",
   "execution_count": 151,
   "id": "382a5855",
   "metadata": {},
   "outputs": [
    {
     "data": {
      "text/plain": [
       "2.6395040392129996"
      ]
     },
     "execution_count": 151,
     "metadata": {},
     "output_type": "execute_result"
    }
   ],
   "source": [
    "-3.78806857 + (5.4369 * 1.18221277)"
   ]
  },
  {
   "cell_type": "markdown",
   "id": "dc4cfe93",
   "metadata": {},
   "source": [
    "### Visualising The best fit line"
   ]
  },
  {
   "cell_type": "code",
   "execution_count": 162,
   "id": "e458fe48",
   "metadata": {},
   "outputs": [
    {
     "data": {
      "image/png": "[encoded data removed]",
      "text/plain": [
       "<Figure size 600x400 with 1 Axes>"
      ]
     },
     "metadata": {},
     "output_type": "display_data"
    }
   ],
   "source": [
    "plt.figure(figsize=(6, 4))\n",
    "plt.style.use('ggplot')\n",
    "plt.scatter(dataset['Populations'], dataset['Profits'], label='Traning Data', color='blue')\n",
    "plt.plot(X, prod, color='red', label='Productive')\n",
    "plt.xlabel('Populations')\n",
    "plt.ylabel('Profits')\n",
    "plt.title('Populations Vs. Profits')\n",
    "plt.legend()\n",
    "plt.tight_layout()\n",
    "plt.show()"
   ]
  },
  {
   "cell_type": "markdown",
   "id": "3f4167d2",
   "metadata": {},
   "source": [
    "### Visualising the cost Vs. the iteration and how the cost decrease each time the theta change"
   ]
  },
  {
   "cell_type": "code",
   "execution_count": 161,
   "id": "eacd13b5",
   "metadata": {},
   "outputs": [
    {
     "data": {
      "image/png": "[encoded data removed]",
      "text/plain": [
       "<Figure size 600x400 with 1 Axes>"
      ]
     },
     "metadata": {},
     "output_type": "display_data"
    }
   ],
   "source": [
    "plt.figure(figsize=(6, 4))\n",
    "plt.plot(cost, color='b')\n",
    "plt.xlabel('Iterations')\n",
    "plt.ylabel('Cost (Error)')\n",
    "plt.title('Iterations Vs. Cost (Error)')\n",
    "plt.show()"
   ]
  },
  {
   "cell_type": "code",
   "execution_count": null,
   "id": "04c79db0",
   "metadata": {},
   "outputs": [],
   "source": []
  },
  {
   "cell_type": "code",
   "execution_count": null,
   "id": "4a67ee1d",
   "metadata": {},
   "outputs": [],
   "source": []
  }
 ],
 "metadata": {
  "kernelspec": {
   "display_name": "Python 3 (ipykernel)",
   "language": "python",
   "name": "python3"
  },
  "language_info": {
   "codemirror_mode": {
    "name": "ipython",
    "version": 3
   },
   "file_extension": ".py",
   "mimetype": "text/x-python",
   "name": "python",
   "nbconvert_exporter": "python",
   "pygments_lexer": "ipython3",
   "version": "3.11.4"
  }
 },
 "nbformat": 4,
 "nbformat_minor": 5
}
